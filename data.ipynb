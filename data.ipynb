{
 "cells": [
  {
   "cell_type": "code",
   "execution_count": 45,
   "metadata": {},
   "outputs": [],
   "source": [
    "import pandas as pd\n",
    "import numpy as np"
   ]
  },
  {
   "cell_type": "code",
   "execution_count": 46,
   "metadata": {},
   "outputs": [],
   "source": [
    "data=pd.read_csv(r\"atl_crime_2009_to_2020.csv\")"
   ]
  },
  {
   "cell_type": "code",
   "execution_count": 47,
   "metadata": {},
   "outputs": [],
   "source": [
    "#replacing the spaces in the columns with underscore\n",
    "new_columns = [column.replace(\" \", \"_\") for column in data.columns]\n",
    "data.columns = new_columns"
   ]
  },
  {
   "cell_type": "code",
   "execution_count": 48,
   "metadata": {},
   "outputs": [
    {
     "name": "stdout",
     "output_type": "stream",
     "text": [
      "<class 'pandas.core.frame.DataFrame'>\n",
      "RangeIndex: 366824 entries, 0 to 366823\n",
      "Data columns (total 22 columns):\n",
      " #   Column            Non-Null Count   Dtype  \n",
      "---  ------            --------------   -----  \n",
      " 0   IDCol             366824 non-null  int64  \n",
      " 1   Report_Number     366824 non-null  int64  \n",
      " 2   Report_Date       366824 non-null  object \n",
      " 3   Day_Occurred      366818 non-null  object \n",
      " 4   Day_Number        366824 non-null  int64  \n",
      " 5   Occur_Date        366818 non-null  object \n",
      " 6   Occur_Time        366818 non-null  object \n",
      " 7   Possible_Date     366665 non-null  object \n",
      " 8   Possible_Time     366665 non-null  object \n",
      " 9   Beat              366824 non-null  int64  \n",
      " 10  Zone              366824 non-null  int64  \n",
      " 11  Location          366822 non-null  object \n",
      " 12  Apartment_Number  68193 non-null   object \n",
      " 13  Crime_Type        366824 non-null  object \n",
      " 14  NIBRS_Code        351915 non-null  object \n",
      " 15  Neighborhood      351058 non-null  object \n",
      " 16  NPU               364160 non-null  object \n",
      " 17  Longitude         366824 non-null  float64\n",
      " 18  Latitude          366824 non-null  float64\n",
      " 19  ObjectId          366824 non-null  int64  \n",
      " 20  x                 366824 non-null  float64\n",
      " 21  y                 366824 non-null  float64\n",
      "dtypes: float64(4), int64(6), object(12)\n",
      "memory usage: 61.6+ MB\n"
     ]
    }
   ],
   "source": [
    "data.info()"
   ]
  },
  {
   "cell_type": "code",
   "execution_count": 49,
   "metadata": {},
   "outputs": [
    {
     "data": {
      "text/plain": [
       "Index(['IDCol', 'Report_Number', 'Report_Date', 'Day_Occurred', 'Day_Number',\n",
       "       'Occur_Date', 'Occur_Time', 'Possible_Date', 'Possible_Time', 'Beat',\n",
       "       'Zone', 'Location', 'Apartment_Number', 'Crime_Type', 'NIBRS_Code',\n",
       "       'Neighborhood', 'NPU', 'Longitude', 'Latitude', 'ObjectId', 'x', 'y'],\n",
       "      dtype='object')"
      ]
     },
     "execution_count": 49,
     "metadata": {},
     "output_type": "execute_result"
    }
   ],
   "source": [
    "data.columns"
   ]
  },
  {
   "cell_type": "code",
   "execution_count": 50,
   "metadata": {},
   "outputs": [
    {
     "data": {
      "text/plain": [
       "IDCol               366824\n",
       "Report_Number       366817\n",
       "Report_Date           4383\n",
       "Day_Occurred             7\n",
       "Day_Number               8\n",
       "Occur_Date            4558\n",
       "Occur_Time            2158\n",
       "Possible_Date         4463\n",
       "Possible_Time         2176\n",
       "Beat                    91\n",
       "Zone                     8\n",
       "Location            101385\n",
       "Apartment_Number      8490\n",
       "Crime_Type               7\n",
       "NIBRS_Code             105\n",
       "Neighborhood           243\n",
       "NPU                     25\n",
       "Longitude            24080\n",
       "Latitude             22796\n",
       "ObjectId            366824\n",
       "x                    24080\n",
       "y                    22796\n",
       "dtype: int64"
      ]
     },
     "execution_count": 50,
     "metadata": {},
     "output_type": "execute_result"
    }
   ],
   "source": [
    "data.nunique()"
   ]
  },
  {
   "cell_type": "code",
   "execution_count": 51,
   "metadata": {},
   "outputs": [
    {
     "name": "stdout",
     "output_type": "stream",
     "text": [
      "Unexpected exception formatting exception. Falling back to standard exception\n"
     ]
    },
    {
     "name": "stderr",
     "output_type": "stream",
     "text": [
      "Traceback (most recent call last):\n",
      "  File \"d:\\Data Engineering projects\\crimeanalytics\\.venv\\lib\\site-packages\\IPython\\core\\interactiveshell.py\", line 3548, in run_code\n",
      "    exec(code_obj, self.user_global_ns, self.user_ns)\n",
      "  File \"C:\\Users\\dudey\\AppData\\Local\\Temp\\ipykernel_17072\\2961394093.py\", line 2, in <module>\n",
      "    data.drop(columns=\"Apartment Number\",axis=1,inplace=True)\n",
      "  File \"d:\\Data Engineering projects\\crimeanalytics\\.venv\\lib\\site-packages\\pandas\\core\\frame.py\", line 5344, in drop\n",
      "    columns : dict-like or function\n",
      "  File \"d:\\Data Engineering projects\\crimeanalytics\\.venv\\lib\\site-packages\\pandas\\core\\generic.py\", line 4711, in drop\n",
      "    2  3  5\n",
      "  File \"d:\\Data Engineering projects\\crimeanalytics\\.venv\\lib\\site-packages\\pandas\\core\\generic.py\", line 4753, in _drop_axis\n",
      "    Returns\n",
      "  File \"d:\\Data Engineering projects\\crimeanalytics\\.venv\\lib\\site-packages\\pandas\\core\\indexes\\base.py\", line 6992, in drop\n",
      "KeyError: \"['Apartment Number'] not found in axis\"\n",
      "\n",
      "During handling of the above exception, another exception occurred:\n",
      "\n",
      "Traceback (most recent call last):\n",
      "  File \"d:\\Data Engineering projects\\crimeanalytics\\.venv\\lib\\site-packages\\IPython\\core\\interactiveshell.py\", line 2142, in showtraceback\n",
      "    stb = self.InteractiveTB.structured_traceback(\n",
      "  File \"d:\\Data Engineering projects\\crimeanalytics\\.venv\\lib\\site-packages\\IPython\\core\\ultratb.py\", line 1435, in structured_traceback\n",
      "    return FormattedTB.structured_traceback(\n",
      "  File \"d:\\Data Engineering projects\\crimeanalytics\\.venv\\lib\\site-packages\\IPython\\core\\ultratb.py\", line 1326, in structured_traceback\n",
      "    return VerboseTB.structured_traceback(\n",
      "  File \"d:\\Data Engineering projects\\crimeanalytics\\.venv\\lib\\site-packages\\IPython\\core\\ultratb.py\", line 1173, in structured_traceback\n",
      "    formatted_exception = self.format_exception_as_a_whole(etype, evalue, etb, number_of_lines_of_context,\n",
      "  File \"d:\\Data Engineering projects\\crimeanalytics\\.venv\\lib\\site-packages\\IPython\\core\\ultratb.py\", line 1088, in format_exception_as_a_whole\n",
      "    frames.append(self.format_record(record))\n",
      "  File \"d:\\Data Engineering projects\\crimeanalytics\\.venv\\lib\\site-packages\\IPython\\core\\ultratb.py\", line 970, in format_record\n",
      "    frame_info.lines, Colors, self.has_colors, lvals\n",
      "  File \"d:\\Data Engineering projects\\crimeanalytics\\.venv\\lib\\site-packages\\IPython\\core\\ultratb.py\", line 792, in lines\n",
      "    return self._sd.lines\n",
      "  File \"d:\\Data Engineering projects\\crimeanalytics\\.venv\\lib\\site-packages\\stack_data\\utils.py\", line 145, in cached_property_wrapper\n",
      "    value = obj.__dict__[self.func.__name__] = self.func(obj)\n",
      "  File \"d:\\Data Engineering projects\\crimeanalytics\\.venv\\lib\\site-packages\\stack_data\\core.py\", line 734, in lines\n",
      "    pieces = self.included_pieces\n",
      "  File \"d:\\Data Engineering projects\\crimeanalytics\\.venv\\lib\\site-packages\\stack_data\\utils.py\", line 145, in cached_property_wrapper\n",
      "    value = obj.__dict__[self.func.__name__] = self.func(obj)\n",
      "  File \"d:\\Data Engineering projects\\crimeanalytics\\.venv\\lib\\site-packages\\stack_data\\core.py\", line 681, in included_pieces\n",
      "    pos = scope_pieces.index(self.executing_piece)\n",
      "  File \"d:\\Data Engineering projects\\crimeanalytics\\.venv\\lib\\site-packages\\stack_data\\utils.py\", line 145, in cached_property_wrapper\n",
      "    value = obj.__dict__[self.func.__name__] = self.func(obj)\n",
      "  File \"d:\\Data Engineering projects\\crimeanalytics\\.venv\\lib\\site-packages\\stack_data\\core.py\", line 660, in executing_piece\n",
      "    return only(\n",
      "  File \"d:\\Data Engineering projects\\crimeanalytics\\.venv\\lib\\site-packages\\executing\\executing.py\", line 116, in only\n",
      "    raise NotOneValueFound('Expected one value, found 0')\n",
      "executing.executing.NotOneValueFound: Expected one value, found 0\n"
     ]
    }
   ],
   "source": [
    "#remove apartment num col as it has most null values\n",
    "data.drop(columns=\"Apartment Number\",axis=1,inplace=True)"
   ]
  },
  {
   "cell_type": "code",
   "execution_count": 61,
   "metadata": {},
   "outputs": [],
   "source": [
    "#changing the data types\n",
    "#Dates\n",
    "data[\"Report_Date\"]=pd.to_datetime(data[\"Report_Date\"])\n",
    "data[\"Occur_Date\"]=pd.to_datetime(data[\"Report_Date\"])\n",
    "data[\"Possible_Date\"]=pd.to_datetime(data[\"Possible_Date\"],errors=\"coerce\")#coerce causes Pandas to replace any null values with NaT in the resulting datetime Series\n",
    "data[\"Possible_Time\"]=pd.to_datetime(data['Possible_Time'], format='%H:%M',errors=\"coerce\").dt.time\n",
    "data[\"Occur_Time\"]=pd.to_datetime(data['Occur_Time'], format='%H:%M',errors=\"coerce\").dt.time\n",
    "\n",
    "#string\n",
    "data[\"Location\"]=data[\"Location\"].astype(\"str\")\n",
    "data[\"Crime_Type\"]=data[\"Crime_Type\"].astype(\"str\")\n",
    "data[\"NIBRS_Code\"]=data[\"NIBRS_Code\"].astype(\"str\")\n",
    "data[\"Neighborhood\"]=data[\"Neighborhood\"].astype(\"str\")\n",
    "data[\"NPU\"]=data[\"NPU\"].astype(\"str\")\n",
    "data[\"Day_Occurred\"]=data[\"Day_Occurred\"].astype(\"str\")"
   ]
  }
 ],
 "metadata": {
  "kernelspec": {
   "display_name": ".venv",
   "language": "python",
   "name": "python3"
  },
  "language_info": {
   "codemirror_mode": {
    "name": "ipython",
    "version": 3
   },
   "file_extension": ".py",
   "mimetype": "text/x-python",
   "name": "python",
   "nbconvert_exporter": "python",
   "pygments_lexer": "ipython3",
   "version": "3.9.0"
  }
 },
 "nbformat": 4,
 "nbformat_minor": 2
}
